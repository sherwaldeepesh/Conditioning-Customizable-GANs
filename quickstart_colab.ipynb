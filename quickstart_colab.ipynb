{
  "cells": [
    {
      "cell_type": "markdown",
      "metadata": {
        "colab_type": "text",
        "id": "view-in-github"
      },
      "source": [
        "<a href=\"https://colab.research.google.com/github/bionboy/GANSketching/blob/main/QuickStart_Colab.ipynb\" target=\"_parent\"><img src=\"https://colab.research.google.com/assets/colab-badge.svg\" alt=\"Open In Colab\"/></a>"
      ]
    },
    {
      "cell_type": "markdown",
      "metadata": {
        "id": "J3taKAQM5iHr"
      },
      "source": [
        "# Setup"
      ]
    },
    {
      "cell_type": "code",
      "execution_count": null,
      "metadata": {
        "id": "caiDtQokcdlu"
      },
      "outputs": [],
      "source": [
        "%%bash\n",
        "git clone https://github.com/PeterWang512/GANSketching.git\n",
        "cd GANSketching\n",
        "\n",
        "pip install -r requirements.txt\n",
        "\n",
        "bash weights/download_weights.sh"
      ]
    },
    {
      "cell_type": "code",
      "execution_count": null,
      "metadata": {
        "id": "LWIfZZZNd6O4"
      },
      "outputs": [],
      "source": [
        "%%bash\n",
        "pip install gpp ninja"
      ]
    },
    {
      "cell_type": "markdown",
      "metadata": {
        "id": "9qJoif0C5gJj"
      },
      "source": [
        "# Example Commands"
      ]
    },
    {
      "cell_type": "markdown",
      "metadata": {
        "id": "Yq1vngV05XYE"
      },
      "source": [
        "## Generate samples from a customized model"
      ]
    },
    {
      "cell_type": "markdown",
      "metadata": {
        "id": "kfCPe7_K5aCw"
      },
      "source": [
        "### Standing Cat"
      ]
    },
    {
      "cell_type": "code",
      "execution_count": null,
      "metadata": {
        "colab": {
          "base_uri": "https://localhost:8080/"
        },
        "id": "s_iCzWBBcnQt",
        "outputId": "2ec3dd14-1578-4661-e234-ca369037d1ef"
      },
      "outputs": [],
      "source": [
        "%%bash\n",
        "cd GANSketching/\n",
        "python generate.py --ckpt weights/photosketch_standing_cat_noaug.pth --save_dir output/samples_standing_cat"
      ]
    },
    {
      "cell_type": "markdown",
      "metadata": {
        "id": "OXj_TlVK5b3j"
      },
      "source": [
        "### Teaser Cat"
      ]
    },
    {
      "cell_type": "code",
      "execution_count": null,
      "metadata": {
        "colab": {
          "base_uri": "https://localhost:8080/"
        },
        "id": "dy2qhdGl17Jz",
        "outputId": "b553a2a2-1372-48b3-8d1e-d5762d21f94b"
      },
      "outputs": [],
      "source": [
        "%%bash\n",
        "cd GANSketching/\n",
        "python generate.py --ckpt weights/by_author_cat_aug.pth --save_dir output/samples_teaser_cat"
      ]
    },
    {
      "cell_type": "markdown",
      "metadata": {
        "id": "e_SVsGvV5TM3"
      },
      "source": [
        "## Latent space edits by GANSpace"
      ]
    },
    {
      "cell_type": "markdown",
      "metadata": {
        "id": "VKYmGzLX5Ro7"
      },
      "source": [
        "### add fur to the standing cats"
      ]
    },
    {
      "cell_type": "code",
      "execution_count": null,
      "metadata": {
        "id": "1ViONcvQ2GQD"
      },
      "outputs": [],
      "source": [
        "%%bash\n",
        "cd GANSketching/\n",
        "\n",
        "python ganspace.py --obj cat --comp_id 27 --scalar 50 --layers 2,4 --ckpt weights/photosketch_standing_cat_noaug.pth --save_dir output/ganspace_fur_standing_cat"
      ]
    },
    {
      "cell_type": "markdown",
      "metadata": {
        "id": "qOyCkwjO5PcG"
      },
      "source": [
        "###  close the eyes of the standing cats"
      ]
    },
    {
      "cell_type": "code",
      "execution_count": null,
      "metadata": {
        "id": "1tlR2kS82LoR"
      },
      "outputs": [],
      "source": [
        "%%bash\n",
        "cd GANSketching/\n",
        "python ganspace.py --obj cat --comp_id 45 --scalar 60 --layers 5,7 --ckpt weights/photosketch_standing_cat_noaug.pth --save_dir output/ganspace_eye_standing_cat"
      ]
    }
  ],
  "metadata": {
    "accelerator": "GPU",
    "colab": {
      "authorship_tag": "ABX9TyN3RlS8D9HUCX0pdx4YLNag",
      "include_colab_link": true,
      "name": "Sketch Your Own GAN Examples",
      "provenance": []
    },
    "kernelspec": {
      "display_name": "Python 3",
      "name": "python3"
    },
    "language_info": {
      "name": "python",
      "version": "3.9.13"
    }
  },
  "nbformat": 4,
  "nbformat_minor": 2
}
